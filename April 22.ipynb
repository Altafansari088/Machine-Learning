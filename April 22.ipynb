{
 "cells": [
  {
   "cell_type": "markdown",
   "id": "8025b3c0-8823-42f2-acae-17d9b2073759",
   "metadata": {},
   "source": [
    "Q1. Write a Python code to implement the KNN classifier algorithm on the load_iris dataset in sklearn.datasets.\n",
    "\n",
    "To implement the KNN classifier algorithm on the load_iris dataset, you can use the following Python code"
   ]
  },
  {
   "cell_type": "code",
   "execution_count": null,
   "id": "f920bd01-a682-4171-97ba-6cbb520d2289",
   "metadata": {},
   "outputs": [],
   "source": [
    "from sklearn.datasets import load_iris\n",
    "from sklearn.neighbors import KNeighborsClassifier\n",
    "from sklearn.model_selection import train_test_split\n",
    "from sklearn.metrics import accuracy_score\n",
    "\n",
    "# Load the iris dataset\n",
    "iris = load_iris()\n",
    "X = iris.data\n",
    "y = iris.target\n",
    "\n",
    "# Split the dataset into training and testing sets\n",
    "X_train, X_test, y_train, y_test = train_test_split(X, y, test_size=0.2, random_state=42)\n",
    "\n",
    "# Create a KNN classifier object\n",
    "knn = KNeighborsClassifier(n_neighbors=3)\n",
    "\n",
    "# Fit the classifier to the training data\n",
    "knn.fit(X_train, y_train)\n",
    "\n",
    "# Predict the classes for the test set\n",
    "y_pred = knn.predict(X_test)\n",
    "\n",
    "# Calculate the accuracy of the classifier\n",
    "accuracy = accuracy_score(y_test, y_pred)\n",
    "print(\"Accuracy:\", accuracy)\n"
   ]
  },
  {
   "cell_type": "markdown",
   "id": "ff83cdb5-2cfd-47b2-97d0-5b86a1824f6d",
   "metadata": {},
   "source": [
    "Q2. Write a Python code to implement the KNN regressor algorithm on the load_boston dataset in sklearn.datasets.\n",
    "\n",
    "To implement the KNN regressor algorithm on the load_boston dataset, you can use the following Python code"
   ]
  },
  {
   "cell_type": "code",
   "execution_count": null,
   "id": "0c6758fd-214c-4157-9fe4-016e4c56e23a",
   "metadata": {},
   "outputs": [],
   "source": [
    "from sklearn.datasets import load_boston\n",
    "from sklearn.neighbors import KNeighborsRegressor\n",
    "from sklearn.model_selection import train_test_split\n",
    "from sklearn.metrics import mean_squared_error\n",
    "\n",
    "# Load the boston dataset\n",
    "boston = load_boston()\n",
    "X = boston.data\n",
    "y = boston.target\n",
    "\n",
    "# Split the dataset into training and testing sets\n",
    "X_train, X_test, y_train, y_test = train_test_split(X, y, test_size=0.2, random_state=42)\n",
    "\n",
    "# Create a KNN regressor object\n",
    "knn = KNeighborsRegressor(n_neighbors=3)\n",
    "\n",
    "# Fit the regressor to the training data\n",
    "knn.fit(X_train, y_train)\n",
    "\n",
    "# Predict the target values for the test set\n",
    "y_pred = knn.predict(X_test)\n",
    "\n",
    "# Calculate the mean squared error of the regressor\n",
    "mse = mean_squared_error(y_test, y_pred)\n",
    "print(\"Mean Squared Error:\", mse)\n"
   ]
  },
  {
   "cell_type": "markdown",
   "id": "b21ab556-ce5b-430a-ba6b-067bf0defef4",
   "metadata": {},
   "source": [
    "Q3. Write a Python code snippet to find the optimal value of K for the KNN classifier algorithm using cross-validation on the load_iris dataset in sklearn.datasets.\n",
    "\n",
    "To find the optimal value of K for the KNN classifier algorithm using cross-validation on the load_iris dataset, you can use the following Python code snippet:"
   ]
  },
  {
   "cell_type": "code",
   "execution_count": null,
   "id": "237576a8-35cc-427f-9124-cae5881df72a",
   "metadata": {},
   "outputs": [],
   "source": [
    "from sklearn.datasets import load_iris\n",
    "from sklearn.neighbors import KNeighborsClassifier\n",
    "from sklearn.model_selection import cross_val_score\n",
    "\n",
    "# Load the iris dataset\n",
    "iris = load_iris()\n",
    "X = iris.data\n",
    "y = iris.target\n",
    "\n",
    "# Create a KNN classifier object\n",
    "knn = KNeighborsClassifier()\n",
    "\n",
    "# Perform cross-validation to find the optimal value of K\n",
    "k_values = range(1, 10)\n",
    "cv_scores = []\n",
    "for k in k_values:\n",
    "    knn.n_neighbors = k\n",
    "    scores = cross_val_score(knn, X, y, cv=5)\n",
    "    cv_scores.append(scores.mean())\n",
    "\n",
    "# Find the optimal K value with the highest cross-validation score\n",
    "optimal_k = k_values[cv_scores.index(max(cv_scores))]\n",
    "print(\"Optimal K:\", optimal_k)\n"
   ]
  },
  {
   "cell_type": "markdown",
   "id": "b118c611-74a7-44dc-96ac-8aac00a31b19",
   "metadata": {},
   "source": [
    "Q4. Implement the KNN regressor algorithm with feature scaling on the load_boston dataset in sklearn.datasets.\n",
    "\n",
    "To implement the KNN regressor algorithm with feature scaling on the load_boston dataset, you can use the following Python code"
   ]
  },
  {
   "cell_type": "code",
   "execution_count": null,
   "id": "1c375e04-af27-4c6e-bde1-715d0204817a",
   "metadata": {},
   "outputs": [],
   "source": [
    "from sklearn.datasets import load_boston\n",
    "from sklearn.neighbors import KNeighborsRegressor\n",
    "from sklearn.model_selection import train_test_split\n",
    "from sklearn.preprocessing import StandardScaler\n",
    "from sklearn.metrics import mean_squared_error\n",
    "\n",
    "# Load the boston dataset\n",
    "boston = load_boston()\n",
    "X = boston.data\n",
    "y = boston.target\n",
    "\n",
    "# Perform feature scaling on the dataset\n",
    "scaler = StandardScaler()\n",
    "X_scaled = scaler.fit_transform(X)\n",
    "\n",
    "# Split the scaled dataset into training and testing sets\n",
    "X_train, X_test, y_train, y_test = train_test_split(X_scaled, y, test_size=0.2, random_state=42)\n",
    "\n",
    "# Create a KNN regressor object\n",
    "knn = KNeighborsRegressor(n_neighbors=3)\n",
    "\n",
    "# Fit the regressor to the training data\n",
    "knn.fit(X_train, y_train)\n",
    "\n",
    "# Predict the target values for the test set\n",
    "y_pred = knn.predict(X_test)\n",
    "\n",
    "# Calculate the mean squared error of the regressor\n",
    "mse = mean_squared_error(y_test, y_pred)\n",
    "print(\"Mean Squared Error:\", mse)\n"
   ]
  },
  {
   "cell_type": "markdown",
   "id": "80f614bb-27e9-4974-bc3a-fd978d545d0d",
   "metadata": {},
   "source": [
    "Q5. Write a Python code snippet to implement the KNN classifier algorithm with weighted voting on the load_iris dataset in sklearn.datasets.\n",
    "\n",
    "To implement the KNN classifier algorithm with weighted voting on the load_iris dataset, you can use the following Python code snippet:"
   ]
  },
  {
   "cell_type": "code",
   "execution_count": null,
   "id": "1f2c0282-3da5-4779-8f82-e7dc4cd10ab1",
   "metadata": {},
   "outputs": [],
   "source": [
    "from sklearn.datasets import load_iris\n",
    "from sklearn.neighbors import KNeighborsClassifier\n",
    "from sklearn.model_selection import train_test_split\n",
    "from sklearn.metrics import accuracy_score\n",
    "\n",
    "# Load the iris dataset\n",
    "iris = load_iris()\n",
    "X = iris.data\n",
    "y = iris.target\n",
    "\n",
    "# Split the dataset into training and testing sets\n",
    "X_train, X_test, y_train, y_test = train_test_split(X, y, test_size=0.2, random_state=42)\n",
    "\n",
    "# Create a KNN classifier object with weighted voting\n",
    "knn = KNeighborsClassifier(n_neighbors=3, weights='distance')\n",
    "\n",
    "# Fit the classifier to the training data\n",
    "knn.fit(X_train, y_train)\n",
    "\n",
    "# Predict the classes for the test set\n",
    "y_pred = knn.predict(X_test)\n",
    "\n",
    "# Calculate the accuracy of the classifier\n",
    "accuracy = accuracy_score(y_test, y_pred)\n",
    "print(\"Accuracy:\", accuracy)\n"
   ]
  },
  {
   "cell_type": "markdown",
   "id": "40563a3f-da49-4e77-adf8-642f87a6108e",
   "metadata": {},
   "source": [
    "Q6. Implement a function to standardize the features before applying the KNN classifier.\n",
    "\n",
    "To implement a function to standardize the features before applying the KNN classifier, you can use the following Python code:"
   ]
  },
  {
   "cell_type": "code",
   "execution_count": null,
   "id": "efe2b52d-dbe4-46f8-814d-a031e3b41ea7",
   "metadata": {},
   "outputs": [],
   "source": [
    "from sklearn.preprocessing import StandardScaler\n",
    "\n",
    "def standardize_features(X):\n",
    "    scaler = StandardScaler()\n",
    "    X_scaled = scaler.fit_transform(X)\n",
    "    return X_scaled\n",
    "\n",
    "# Example usage\n",
    "X_train = standardize"
   ]
  },
  {
   "cell_type": "markdown",
   "id": "c0fb997e-d91d-4669-85d9-057a08f57cc9",
   "metadata": {},
   "source": [
    "\n",
    "Q7. Write a Python function to calculate the Euclidean distance between two points.\n",
    "\n",
    "To calculate the Euclidean distance between two points in Python, you can use the following function:"
   ]
  },
  {
   "cell_type": "code",
   "execution_count": null,
   "id": "4dec1768-2452-472b-beaf-04811edbbd09",
   "metadata": {},
   "outputs": [],
   "source": [
    "import numpy as np\n",
    "\n",
    "def euclidean_distance(point1, point2):\n",
    "    return np.sqrt(np.sum((point1 - point2) ** 2))\n",
    "\n",
    "# Example usage\n",
    "point1 = np.array([1, 2, 3])\n",
    "point2 = np.array([4, 5, 6])\n",
    "distance = euclidean_distance(point1, point2)\n",
    "print(\"Euclidean Distance:\", distance)\n"
   ]
  },
  {
   "cell_type": "markdown",
   "id": "335d65c1-89f7-46f3-894c-86514dc74be8",
   "metadata": {},
   "source": [
    "Q8. Write a Python function to calculate the Manhattan distance between two points.\n",
    "\n",
    "To calculate the Manhattan distance between two points in Python, you can use the following function:"
   ]
  },
  {
   "cell_type": "code",
   "execution_count": null,
   "id": "63055b0a-689a-49fb-b2e0-92cc0c3d9826",
   "metadata": {},
   "outputs": [],
   "source": [
    "import numpy as np\n",
    "\n",
    "def manhattan_distance(point1, point2):\n",
    "    return np.sum(np.abs(point1 - point2))\n",
    "\n",
    "# Example usage\n",
    "point1 = np.array([1, 2, 3])\n",
    "point2 = np.array([4, 5, 6])\n",
    "distance = manhattan_distance(point1, point2)\n",
    "print(\"Manhattan Distance:\", distance)\n"
   ]
  }
 ],
 "metadata": {
  "kernelspec": {
   "display_name": "Python 3 (ipykernel)",
   "language": "python",
   "name": "python3"
  },
  "language_info": {
   "codemirror_mode": {
    "name": "ipython",
    "version": 3
   },
   "file_extension": ".py",
   "mimetype": "text/x-python",
   "name": "python",
   "nbconvert_exporter": "python",
   "pygments_lexer": "ipython3",
   "version": "3.10.8"
  }
 },
 "nbformat": 4,
 "nbformat_minor": 5
}
