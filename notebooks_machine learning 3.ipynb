{
  "metadata": {
    "language_info": {
      "codemirror_mode": {
        "name": "python",
        "version": 3
      },
      "file_extension": ".py",
      "mimetype": "text/x-python",
      "name": "python",
      "nbconvert_exporter": "python",
      "pygments_lexer": "ipython3",
      "version": "3.8"
    },
    "kernelspec": {
      "name": "python",
      "display_name": "Python (Pyodide)",
      "language": "python"
    }
  },
  "nbformat_minor": 4,
  "nbformat": 4,
  "cells": [
    {
      "cell_type": "markdown",
      "source": "### Q1: What are missing values in a dataset? Why is it essential to handle missing values? Name some algorithms that are not affected by missing values.",
      "metadata": {}
    },
    {
      "cell_type": "markdown",
      "source": "Ans.While these algorithms can handle missing values to some extent, it is generally recommended to handle missing values appropriately before applying any analysis or modeling techniques to ensure the reliability and accuracy of the results.",
      "metadata": {}
    },
    {
      "cell_type": "markdown",
      "source": "### Q2: List down techniques used to handle missing data. Give an example of each with python code.",
      "metadata": {}
    },
    {
      "cell_type": "code",
      "source": "import pandas as pd\n\n# Create a sample dataframe with missing values\ndata = {'A': [1, 2, None, 4, 5],\n        'B': [None, 6, 7, 8, 9]}\ndf = pd.DataFrame(data)\n\n# Listwise deletion\ndf_dropped = df.dropna()\n\n# Pairwise deletion\ndf_pairwise = df.dropna(how='any')",
      "metadata": {
        "trusted": true
      },
      "execution_count": 7,
      "outputs": []
    },
    {
      "cell_type": "markdown",
      "source": "### Q3: Explain the imbalanced data. What will happen if imbalanced data is not handled?",
      "metadata": {}
    },
    {
      "cell_type": "markdown",
      "source": "Ans. embalanced data refers to a situation where the distribution of classes or categories in a dataset is significantly skewed, with one class being dominant or having a much larger number of instances compared to the other class(es). For example, in a binary classification problem, if the positive class accounts for only a small percentage of the total observations, while the negative class dominates, the data is considered imbalanced.",
      "metadata": {}
    },
    {
      "cell_type": "markdown",
      "source": "### Q4: What are Up-sampling and Down-sampling? Explain with an example when up-sampling and down- sampling are required.",
      "metadata": {}
    },
    {
      "cell_type": "markdown",
      "source": "Ans.It's worth noting that both up-sampling and down-sampling have trade-offs. Up-sampling can lead to overfitting if the synthetic instances are not well generated, while down-sampling can result in the loss of potentially valuable information from the majority class. The choice between up-sampling and down-sampling depends on the specific dataset, the characteristics of the classes, and the problem at hand. It's often advisable to experiment with both techniques and evaluate their impact on the model's performance before deciding on the best approach",
      "metadata": {}
    },
    {
      "cell_type": "markdown",
      "source": "### Q5: What is data Augmentation? Explain SMOTE.",
      "metadata": {}
    },
    {
      "cell_type": "markdown",
      "source": "Ans.SMOTE can be applied. It selects an instance of a fraudulent transaction and identifies its k nearest neighbors within the minority class. It then generates synthetic instances by interpolating the features between the original instance and the selected neighbors. These synthetic instances are added to the minority class, resulting in an augmented dataset with a more balanced representation of the two classes.",
      "metadata": {}
    },
    {
      "cell_type": "markdown",
      "source": "### Q6: What are outliers in a dataset? Why is it essential to handle outliers?",
      "metadata": {}
    },
    {
      "cell_type": "markdown",
      "source": "Ans.It is important to note that not all outliers need to be removed or corrected. Outliers can sometimes represent genuine or meaningful observations, such as rare events or extreme values that are of interest in the analysis. Therefore, the decision to handle outliers should be made carefully, considering the specific context, domain knowledge, and the impact of outliers on the analysis or modeling goals.",
      "metadata": {}
    },
    {
      "cell_type": "markdown",
      "source": "### Q7: You are working on a project that requires analyzing customer data. However, you notice that some of the data is missing. What are some techniques you can use to handle the missing data in your analysis?",
      "metadata": {}
    },
    {
      "cell_type": "markdown",
      "source": "Ans.\nWhen encountering missing data in a project, several techniques can be used to handle the missing values effectively. Here are some commonly employed techniques:\n\nDeletion: In this approach, the rows or columns containing missing values are removed from the dataset. However, caution must be exercised with this technique as it can result in a loss of valuable information if the missing data is substantial.\n\nMean/Mode/Median Imputation: Missing values are replaced with the mean, mode, or median of the respective variable. This technique assumes that the missing values are missing at random (MAR) and can help preserve the overall statistical properties of the data. However, it may underestimate the variability in the data.\n\nForward Fill (ffill) or Backward Fill (bfill): Also known as \"last observation carried forward\" (LOCF) or \"next observation carried backward\" (NOCB), this method involves filling missing values with the previous (ffill) or next (bfill) observed value. This technique is useful when missing values follow a pattern or are related to the previous or subsequent values.\n\nHot-Deck Imputation: Hot-deck imputation involves replacing missing values with randomly selected values from similar observations or neighboring records. The similarity can be determined based on various criteria such as distance metrics or categorical matching.",
      "metadata": {}
    },
    {
      "cell_type": "markdown",
      "source": "### Q8: You are working with a large dataset and find that a small percentage of the data is missing. What are some strategies you can use to determine if the missing data is missing at random or if there is a pattern to the missing data?",
      "metadata": {}
    },
    {
      "cell_type": "markdown",
      "source": "\nTo determine if the missing data is missing at random (MAR) or if there is a pattern to the missing data, you can employ various strategies and techniques. Here are a few commonly used approaches:\n\nVisualizations: Data visualizations can help identify patterns or dependencies between missing values and other variables. Plotting the missingness pattern, such as a missingness matrix or a missingness heatmap, can reveal if there are any systematic relationships between missing values and specific variables or combinations of variables. If missingness appears to be related to certain patterns or groups, it suggests that the missing data is not missing at random.\n\n\nMissing Data Mechanism Tests: Statistical tests can be applied to assess if the missing data mechanism follows a specific pattern. These tests, such as the Little's Missing Completely at Random (MCAR) test, Missing at Random (MAR) test, or Missingness Pattern Test, help evaluate if the missing data is random or if it depends on specific variables or patterns.",
      "metadata": {}
    },
    {
      "cell_type": "markdown",
      "source": "### Q9: Suppose you are working on a medical diagnosis project and find that the majority of patients in the dataset do not have the condition of interest, while a small percentage do. What are some strategies you can use to evaluate the performance of your machine learning model on this imbalanced dataset?",
      "metadata": {}
    },
    {
      "cell_type": "markdown",
      "source": "When dealing with imbalanced datasets in a medical diagnosis project where the majority of patients do not have the condition of interest, it's important to consider strategies that can properly evaluate the performance of the machine learning model. Here are some techniques commonly used in such scenarios:\n\nResampling Techniques: Resampling techniques can help address the class imbalance during model training and evaluation. One common approach is to perform stratified sampling during cross-validation to ensure that each fold maintains the original class distribution. Additionally, techniques like oversampling the minority class (e.g., using SMOTE) or undersampling the majority class can be employed to create a more balanced training set.",
      "metadata": {}
    },
    {
      "cell_type": "markdown",
      "source": "### Q10: When attempting to estimate customer satisfaction for a project, you discover that the dataset is unbalanced, with the bulk of customers reporting being satisfied. What methods can you employ to balance the dataset and down-sample the majority class?",
      "metadata": {}
    },
    {
      "cell_type": "code",
      "source": "When dealing with an unbalanced dataset in which the majority of customers report being satisfied, there are several methods you can employ to balance the dataset and down-sample the majority class. Here are a few commonly used techniques:\n\nRandom Under-Sampling: Randomly select a subset of the majority class instances to match the number of instances in the minority class. This method randomly removes data points from the majority class until the class distribution is balanced. While it can be straightforward to implement, random under-sampling may discard potentially useful information.",
      "metadata": {},
      "execution_count": null,
      "outputs": []
    },
    {
      "cell_type": "markdown",
      "source": "### Q11: You discover that the dataset is unbalanced with a low percentage of occurrences while working on a project that requires you to estimate the occurrence of a rare event. What methods can you employ to balance the dataset and up-sample the minority class?",
      "metadata": {}
    },
    {
      "cell_type": "markdown",
      "source": "When dealing with an imbalanced dataset that contains a low percentage of occurrences for a rare event, there are several methods you can employ to balance the dataset and up-sample the minority class. Here are a few commonly used techniques:\n\nRandom Over-Sampling: Randomly replicate instances from the minority class to increase its representation in the dataset. This technique randomly duplicates existing minority class instances until the desired balance is achieved. However, it may lead to overfitting if the minority class is excessively over-sampled.\n\nSynthetic Minority Over-sampling Technique (SMOTE): SMOTE creates synthetic instances for the minority class by interpolating between existing minority class instances. It selects a minority class instance, finds its nearest neighbors, and generates new instances along the line connecting the instance and its neighbors. SMOTE helps increase the minority class representation while reducing the risk of overfitting",
      "metadata": {}
    }
  ]
}