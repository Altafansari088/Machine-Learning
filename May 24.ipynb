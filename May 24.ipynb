{
 "cells": [
  {
   "cell_type": "markdown",
   "id": "2e1e70ca-f5f2-45f8-991f-d70c3d6778ce",
   "metadata": {},
   "source": [
    "Question 1: Create a folder in which you want to create the project, after that use the git init and the necessary commands to create the specific Git repository.\n",
    "\n",
    "To create a folder for your project, you can use the following command in your terminal or command prompt"
   ]
  },
  {
   "cell_type": "code",
   "execution_count": null,
   "id": "5bff9000-acda-4f76-8b75-b4e70f08d569",
   "metadata": {},
   "outputs": [],
   "source": [
    "mkdir project_folder_name\n",
    "cd project_folder_name\n",
    "git init\n"
   ]
  },
  {
   "cell_type": "markdown",
   "id": "a0731979-b73e-487d-89af-27d6f4f6d58d",
   "metadata": {},
   "source": [
    "Question 2: Create a separate environment so that you do not mess up with your base environment.\n",
    "\n",
    "To create a separate environment, you can use tools like Anaconda or virtualenv. Here's an example using Anaconda:"
   ]
  },
  {
   "cell_type": "code",
   "execution_count": null,
   "id": "cfed53c8-c2bb-46cf-9c4b-6fc96985c30b",
   "metadata": {},
   "outputs": [],
   "source": [
    "conda create --name myenv\n",
    "conda activate myenv\n"
   ]
  },
  {
   "cell_type": "markdown",
   "id": "f4cbff24-9547-4b87-aabc-eaeef8e9dc0a",
   "metadata": {},
   "source": [
    "Question 3: Create the folder structure/directories and files using the python program required for an ML project.\n",
    "\n",
    "Based on the provided document, the suggested folder structure for the ML project is as follows:"
   ]
  },
  {
   "cell_type": "code",
   "execution_count": null,
   "id": "ae011049-9ad7-455d-8c41-5bfd57200bb3",
   "metadata": {},
   "outputs": [],
   "source": [
    "project_folder_name\n",
    "├── sr\n",
    "│   ├── __init__.py\n",
    "│   ├── logger.py\n",
    "│   ├── exception.py\n",
    "│   ├── utils.py\n",
    "├── component\n",
    "│   ├── __init__.py\n",
    "│   ├── data_ingestion.py\n",
    "│   ├── data_transformation.py\n",
    "│   ├── model_trainer.py\n",
    "├── pipeline\n",
    "│   ├── __init__.py\n",
    "│   ├── predict_pipeline.py\n",
    "│   ├── train_pipeline.py\n",
    "│   ├── import_data.py\n",
    "│   ├── setup.py\n",
    "├── notebook\n",
    "│   ├── requirements.txt\n"
   ]
  },
  {
   "cell_type": "code",
   "execution_count": null,
   "id": "78fffc53-b83a-42cd-90be-e5bb78b8b940",
   "metadata": {},
   "outputs": [],
   "source": [
    "mkdir sr\n",
    "mkdir component\n",
    "mkdir pipeline\n",
    "mkdir notebook\n"
   ]
  },
  {
   "cell_type": "markdown",
   "id": "27d37fe7-7cd2-41fa-a8f3-177fe42cc190",
   "metadata": {},
   "source": [
    "Question 4: Update the created folders and files to your Git repository by pushing from your end and add the following files from GitHub and pull it to your source code.\n",
    "\n",
    "To update the created folders and files to your Git repository, you can follow these steps:\n",
    "    \n",
    "Add the files to the staging area using the git add command. For example:"
   ]
  },
  {
   "cell_type": "code",
   "execution_count": null,
   "id": "6d4f2f51-bc7d-4c8d-b9c9-a88b6907f9cb",
   "metadata": {},
   "outputs": [],
   "source": [
    "git add sr/\n",
    "git add component/\n",
    "git add pipeline/\n",
    "git add notebook/\n",
    "git commit -m \"Initial commit\"\n",
    "git remote add origin <remote_repository_url>\n",
    "git push -u origin master\n"
   ]
  },
  {
   "cell_type": "markdown",
   "id": "61c8d2df-7cb6-4db5-9b07-010697778a78",
   "metadata": {},
   "source": [
    "Question 5: Write the program for setup.py and the relevant dependencies in requirements.txt and generate the egg.info folder.\n",
    "\n",
    "To create a setup.py file, you can use a text editor and define the necessary information for your project. Here's an example of a basic setup.py file:\n"
   ]
  },
  {
   "cell_type": "code",
   "execution_count": null,
   "id": "bdba33df-0a01-4555-ae35-47d968aaa817",
   "metadata": {},
   "outputs": [],
   "source": [
    "from setuptools import setup, find_packages\n",
    "\n",
    "setup(\n",
    "    name='your_project_name',\n",
    "    version='1.0',\n",
    "    packages=find_packages(),\n",
    "    install_requires=[\n",
    "        'numpy',\n",
    "        'scikit-learn',\n",
    "        'pandas',\n",
    "        # Add any other dependencies here\n",
    "    ],\n",
    ")\n"
   ]
  },
  {
   "cell_type": "code",
   "execution_count": null,
   "id": "c41381cd-bc1c-460a-9fb2-8d73d633dcb6",
   "metadata": {},
   "outputs": [],
   "source": [
    "python setup.py egg_info\n",
    "\n",
    "pip freeze > requirements.txt\n"
   ]
  }
 ],
 "metadata": {
  "kernelspec": {
   "display_name": "Python 3 (ipykernel)",
   "language": "python",
   "name": "python3"
  },
  "language_info": {
   "codemirror_mode": {
    "name": "ipython",
    "version": 3
   },
   "file_extension": ".py",
   "mimetype": "text/x-python",
   "name": "python",
   "nbconvert_exporter": "python",
   "pygments_lexer": "ipython3",
   "version": "3.10.8"
  }
 },
 "nbformat": 4,
 "nbformat_minor": 5
}
