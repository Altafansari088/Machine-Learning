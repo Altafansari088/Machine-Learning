{
  "metadata": {
    "language_info": {
      "name": ""
    },
    "kernelspec": {
      "name": "python",
      "display_name": "Python (Pyodide)",
      "language": "python"
    }
  },
  "nbformat_minor": 4,
  "nbformat": 4,
  "cells": [
    {
      "cell_type": "markdown",
      "source": "Q1. Load the flight price dataset and examine its dimensions. How many rows and columns does the dataset have?",
      "metadata": {}
    },
    {
      "cell_type": "markdown",
      "source": "\nQ1. Load the flight price dataset and examine its dimensions. How many rows and columns does the dataset have?\nTo load the flight price dataset, you can use a programming language like Python and read the dataset using a library such as pandas. Once loaded, you can examine its dimensions using the shape attribute. For example, if the dataset has been loaded into a variable called \"flight_data\",",
      "metadata": {}
    },
    {
      "cell_type": "code",
      "source": "flight_data.shape",
      "metadata": {},
      "execution_count": null,
      "outputs": []
    },
    {
      "cell_type": "markdown",
      "source": "Q2. What is the distribution of flight prices in the dataset? Create a histogram to visualize the distribution.",
      "metadata": {}
    },
    {
      "cell_type": "code",
      "source": "import matplotlib.pyplot as plt\n\nplt.hist(flight_data['Price'], bins=10)\nplt.xlabel('Flight Price')\nplt.ylabel('Frequency')\nplt.title('Distribution of Flight Prices')\nplt.show()",
      "metadata": {
        "trusted": true
      },
      "execution_count": null,
      "outputs": []
    },
    {
      "cell_type": "markdown",
      "source": "Q3. What is the range of prices in the dataset? What is the minimum and maximum price?",
      "metadata": {}
    },
    {
      "cell_type": "code",
      "source": "min_price = flight_data['Price'].min()\nmax_price = flight_data['Price'].max()\n\nprint(\"Minimum Price:\", min_price)\nprint(\"Maximum Price:\", max_price)\n",
      "metadata": {
        "trusted": true
      },
      "execution_count": null,
      "outputs": []
    },
    {
      "cell_type": "markdown",
      "source": "Q4. How does the price of flights vary by airline? Create a boxplot to compare the prices of different airlines.",
      "metadata": {}
    },
    {
      "cell_type": "code",
      "source": "Ans.import matplotlib.pyplot as plt\n\nplt.boxplot([flight_data[flight_data['Airline'] == 'Airline1']['Price'],\n             flight_data[flight_data['Airline'] == 'Airline2']['Price'],\n             flight_data[flight_data['Airline'] == 'Airline3']['Price']])\nplt.xlabel('Airline')\nplt.ylabel('Flight Price')\nplt.title('Price Variation by Airline')\nplt.xticks([1, 2, 3], ['Airline1', 'Airline2', 'Airline3'])\nplt.show()\n",
      "metadata": {},
      "execution_count": null,
      "outputs": []
    },
    {
      "cell_type": "markdown",
      "source": "Q5. Are there any outliers in the dataset? Identify any potential outliers using a boxplot and describe how they may impact your analysis.",
      "metadata": {}
    },
    {
      "cell_type": "markdown",
      "source": "Ans. To identify potential outliers in the dataset, you can use a boxplot. Outliers are data points that significantly deviate from the rest of the data. In a boxplot, outliers are represented as individual points outside the whiskers.",
      "metadata": {}
    },
    {
      "cell_type": "markdown",
      "source": "Q6. You are working for a travel agency, and your boss has asked you to analyze the Flight Price dataset to identify the peak travel season. What features would you analyze to identify the peak season, and how would you present your findings to your boss?",
      "metadata": {}
    },
    {
      "cell_type": "markdown",
      "source": "Ans.To identify the peak travel season in the Flight Price dataset, you can analyze features such as the date of travel, month, or season. By aggregating the flight prices based on these features, you can determine the periods when prices are generally higher or lower.",
      "metadata": {}
    },
    {
      "cell_type": "markdown",
      "source": "Q7. You are a data analyst for a flight booking website, and you have been asked to analyze the Flight Price dataset to identify any trends in flight prices. What features would you analyze to identify these trends, and what visualizations would you use to present your findings to your team?",
      "metadata": {}
    },
    {
      "cell_type": "markdown",
      "source": "Ans.To identify trends in flight prices, you can analyze various features in the Flight Price dataset. Some key features to consider are date of travel, airline, departure/arrival location, and flight duration.\n\nTo analyze trends over time, you can create line plots or time series plo\nts with the date of travel on the x-axis and flight prices on the y-axis. This will help visualize how prices change over different time periods, such as months or years.\n\nTo analyze trends by airline, you can create bar charts or boxplots to compare the average prices or price distributions for each airline. This will provide insights into the pricing strategies of different airlines and their impact on flight prices",
      "metadata": {}
    },
    {
      "cell_type": "markdown",
      "source": "Q8. You are a data scientist working for an airline company, and you have been asked to analyze the Flight Price dataset to identify the factors that affect flight prices. What features would you analyze to identify these factors, and how would you present your findings to the management team?",
      "metadata": {}
    },
    {
      "cell_type": "markdown",
      "source": "Ans.To present your findings to the management team, you can create a comprehensive report or presentation that includes visualizations, key insights, and recommendations. Visualizations such as line plots, bar charts, and maps can effectively communicate the factors influencing flight prices. Additionally, providing clear explanations and actionable recommendations based on the analysis will help the management team make informed decisions regarding pricing strategies, route planning, and customer segmentation.",
      "metadata": {}
    },
    {
      "cell_type": "markdown",
      "source": "Q9. Load the Google Playstore dataset and examine its dimensions. How many rows and columns does the dataset have?",
      "metadata": {}
    },
    {
      "cell_type": "markdown",
      "source": "Ans.To determine the dimensions of the Google Playstore dataset, you need to load the dataset into a data analysis tool or programming language such as Python. Once loaded, you c\\an use the appropriate function to check the number of rows and columns in the dataset.",
      "metadata": {}
    },
    {
      "cell_type": "code",
      "source": "import pandas as pd\n\n# Load the Google Playstore dataset\ndata = pd.read_csv('google_playstore_dataset.csv')\n\n# Check the dimensions of the dataset\nrows, columns = data.shape\nprint(\"Number of rows:\", rows)\nprint(\"Number of columns:\", columns)\n",
      "metadata": {
        "trusted": true
      },
      "execution_count": null,
      "outputs": []
    },
    {
      "cell_type": "markdown",
      "source": "Q10. How does the rating of apps vary by category? Create a boxplot to compare the ratings of different app categories",
      "metadata": {}
    },
    {
      "cell_type": "markdown",
      "source": "Ans.To compare the ratings of apps across different categories in the Google Playstore dataset, you can create a boxplot. A boxplot will show the distribution of app ratings for each category, including the median, quartiles, and any outliers. This will allow you to compare the rating ranges and variations among different app categories.",
      "metadata": {}
    },
    {
      "cell_type": "markdown",
      "source": "Q11. Are there any missing values in the dataset? Identify any missing values and describe how they may impact your analysis.",
      "metadata": {}
    },
    {
      "cell_type": "markdown",
      "source": "Ans.To identify missing values in the Google Playstore dataset, you can check for null or NaN values in the dataset. Missing values can impact your analysis by affecting the accuracy and completeness of the data. They may lead to biased results or incomplete insights. It is important to handle missing values appropriately, either by imputing them or excluding them from the analysis, depending on the specific context and goals of the analysis.",
      "metadata": {}
    },
    {
      "cell_type": "markdown",
      "source": "Q12. What is the relationship between the size of an app and its rating? Create a scatter plot to visualize the relationship",
      "metadata": {}
    },
    {
      "cell_type": "markdown",
      "source": "Ans.To visualize the relationship between the size of an app and its rating in the Google Playstore dataset, you can create a scatter plot. A scatter plot will show the individual data points representing different apps, with the app size on one axis and the app rating on the other axis. This will allow you to observe any patterns or trends in the relationship between app size and rating. It can help you determine if there is any correlation or association between the two variable",
      "metadata": {}
    },
    {
      "cell_type": "markdown",
      "source": "Q13. How does the type of app affect its price? Create a bar chart to compare average prices by app type",
      "metadata": {}
    },
    {
      "cell_type": "markdown",
      "source": "Ans.To compare the average prices of different app types in the Google Playstore dataset, you can create a bar chart. The bar chart will show the average price for each app type, allowing you to compare the price differences among different types of apps",
      "metadata": {}
    },
    {
      "cell_type": "markdown",
      "source": "Q14. What are the top 10 most popular apps in the dataset? Create a frequency table to identify the apps with the highest number of installs.",
      "metadata": {}
    },
    {
      "cell_type": "markdown",
      "source": "To identify the top 10 most popular apps in the Google Playstore dataset, you can create a frequency table. The frequency table will show the number of installs for each app, allowing you to identify the apps with the highest number of installations. You can then sort the table in descending order and select the top 10 apps.",
      "metadata": {}
    },
    {
      "cell_type": "markdown",
      "source": "Q15. A company wants to launch a new app on the Google Playstore and has asked you to analyze the Google Playstore dataset to identify the most popular app categories. How would you approach this task, and what features would you analyze to make recommendations to the company?",
      "metadata": {}
    },
    {
      "cell_type": "markdown",
      "source": "Ans.To identify the most popular app categories in the Google Playstore dataset, you can analyze the following features:\nCategory: Analyze the number of apps in each category to determine the popularity of different app categories.\nInstalls: Analyze the total number of installs for apps in each category to identify the categories with the highest number of installations.\nRatings: Analyze the average ratings of apps in each category to determine the user satisfaction and popularity of different app categories.",
      "metadata": {}
    },
    {
      "cell_type": "markdown",
      "source": "Q16. A mobile app development company wants to analyze the Google Playstore dataset to identify the most successful app developers. What features would you analyze to make recommendations to the company, and what data visualizations would you use to present your findings?",
      "metadata": {}
    },
    {
      "cell_type": "markdown",
      "source": "Ans.Developer: Analyze the number of apps developed by each developer to determine their level of activity and productivity.\nInstalls: Analyze the total number of installs for apps developed by each developer to identify the developers with the highest number of installations.\nRatings: Analyze the average ratings of apps developed by each developer to determine the user satisfaction and success of their apps.\nTo present your findings to the mobile app development company, you can use data visualizations such as bar charts or pie charts to compare the number of apps, total installs, and average ratings for different developers. These visualizations will help the company understand the success and popularity of different developers and make informed decisions about potential collaborations or partnerships.",
      "metadata": {}
    }
  ]
}