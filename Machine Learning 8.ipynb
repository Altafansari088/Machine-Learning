{
 "cells": [
  {
   "cell_type": "markdown",
   "id": "70360fec-44d1-4336-bc0a-1ccb0be0eb1c",
   "metadata": {
    "tags": []
   },
   "source": [
    "### Q1. Pearson correlation coefficient is a measure of the linear relationship between two variables. Suppose you have collected data on the amount of time students spend studying for an exam and their final exam scores. Calculate the Pearson correlation coefficient between these two variables and interpret the result."
   ]
  },
  {
   "cell_type": "markdown",
   "id": "97a2292b-e13d-4a2d-a701-06f1a9f6e272",
   "metadata": {},
   "source": [
    "Ans.To calculate the Pearson correlation coefficient between the amount of time students spend studying for an exam and their final exam scores, you need the data for both variables. Let's assume we have the following sample data:\n",
    "\n",
    "Study Time (hours): [10, 15, 20, 5, 8, 12]\n",
    "\n",
    "Exam Scores: [80, 85, 90, 70, 75, 82]\n",
    "\n",
    "We can use the Pearson correlation coefficient formula to calculate the correlation coefficient. The formula is:\n",
    "\n",
    "r = (Σ((Xᵢ - ȳ)(Yᵢ - ẏ))) / sqrt(Σ((Xᵢ - ȳ)²) * Σ((Yᵢ - ẏ)²))"
   ]
  },
  {
   "cell_type": "markdown",
   "id": "14d3b2f3-7ba5-44af-868e-cfff71fd90d3",
   "metadata": {},
   "source": [
    "### Q2. Spearman's rank correlation is a measure of the monotonic relationship between two variables. Suppose you have collected data on the amount of sleep individuals get each night and their overall job tisfaction level on a scale of 1 to 10. Calculate the Spearman's rank correlation between these two ariables and interpret the result."
   ]
  },
  {
   "cell_type": "markdown",
   "id": "65feb1db-882c-48ae-aca0-30729fa07d3f",
   "metadata": {},
   "source": [
    "To calculate the Spearman's rank correlation between the amount of sleep individuals get each night and their overall job satisfaction level, you need the data for both variables. Let's assume we have the following sample data:\n",
    "\n",
    "Amount of Sleep: [7, 6, 8, 6, 5]\n",
    "\n",
    "Job Satisfaction: [9, 8, 7, 6, 8]\n",
    "\n",
    "The Spearman's rank correlation coefficient (ρ) assesses the monotonic relationship between the ranks of the data points.\n",
    "\n",
    "It's important to note that Spearman's rank correlation assesses the monotonic relationship but does not indicate the strength or the form of the relationship (linear or nonlinear). Additionally, as with any correlation measure, it's crucial to consider the limitations of the sample size and the specific context of the data before drawing definitive conclusions."
   ]
  },
  {
   "cell_type": "markdown",
   "id": "d3787d06-61f3-45be-9455-56d7b4f96326",
   "metadata": {},
   "source": [
    "### Q3. Suppose you are conducting a study to examine the relationship between the number of hours of exercise per week and body mass index (BMI) in a sample of adults. You collected data on both variables for 50 participants. Calculate the Pearson correlation coefficient and the Spearman's rank correlation between these two variables and compare the results."
   ]
  },
  {
   "cell_type": "code",
   "execution_count": null,
   "id": "e308c670-97a0-48e8-806c-5052b803022a",
   "metadata": {},
   "outputs": [],
   "source": [
    "import numpy as np\n",
    "from scipy.stats import pearsonr, spearmanr\n",
    "\n",
    "# Sample data for hours of exercise and BMI\n",
    "exercise_hours = np.array([3, 5, 4, 2, 6, ...])  # Replace ... with actual data\n",
    "bmi = np.array([25.3, 23.8, 27.6, 29.1, 24.9, ...])  # Replace ... with actual data\n",
    "\n",
    "# Calculate Pearson correlation coefficient\n",
    "pearson_corr, _ = pearsonr(exercise_hours, bmi)\n",
    "\n",
    "# Calculate Spearman's rank correlation coefficient\n",
    "spearman_corr, _ = spearmanr(exercise_hours, bmi)\n",
    "\n",
    "print(\"Pearson correlation coefficient:\", pearson_corr)\n",
    "print(\"Spearman's rank correlation coefficient:\", spearman_corr)\n"
   ]
  },
  {
   "cell_type": "markdown",
   "id": "5183ef36-1835-4264-abae-9dc1a0d94bdd",
   "metadata": {},
   "source": [
    "comparing the two correlation coefficients, you can understand the nature of the relationship between exercise hours and BMI. If both coefficients have similar values and signs, it suggests a strong linear relationship between the two variables. If the coefficients differ, it implies a nonlinear or non-monotonic relationship."
   ]
  },
  {
   "cell_type": "markdown",
   "id": "c2da5aa0-6515-4634-94ff-9cbc1d6df1ae",
   "metadata": {},
   "source": [
    "### Q4. A researcher is interested in examining the relationship between the number of hours individuals spend watching television per day and their level of physical activity. The researcher collected data on both variables from a sample of 50 participants. Calculate the Pearson correlation coefficient between these two variables."
   ]
  },
  {
   "cell_type": "code",
   "execution_count": null,
   "id": "9a849683-f2e2-4401-b573-f228861b2d0e",
   "metadata": {},
   "outputs": [],
   "source": [
    "import numpy as np\n",
    "from scipy.stats import pearsonr\n",
    "\n",
    "# Sample data for hours watching TV and physical activity\n",
    "watching_tv_hours = np.array([3, 5, 4, 2, 6, ...])  # Replace ... with actual data\n",
    "physical_activity = np.array([2, 4, 3, 1, 2, ...])  # Replace ... with actual data\n",
    "\n",
    "# Calculate Pearson correlation coefficient\n",
    "pearson_corr, _ = pearsonr(watching_tv_hours, physical_activity)\n",
    "\n",
    "print(\"Pearson correlation coefficient:\", pearson_corr)\n"
   ]
  },
  {
   "cell_type": "markdown",
   "id": "10a4afaf-36f4-453b-bdf3-3284ad5c9e2a",
   "metadata": {},
   "source": [
    "It's important to interpret the correlation coefficient in the context of the data and the research question. A positive or negative correlation does not imply causation, but it indicates the presence and direction of the relationship between the variables. Additionally, the correlation coefficient alone may not capture the entire complexity of the relationship, so it's beneficial to consider other factors and conduct further analysis if needed."
   ]
  },
  {
   "cell_type": "markdown",
   "id": "6a2375d0-7ca2-4c20-906a-42c7233ac28e",
   "metadata": {},
   "source": [
    "### Q5. A survey was conducted to examine the relationship between age and preference for a particular brand of soft drink. The survey results are shown below:\n",
    "    \n",
    "Age         (Years)\n",
    "\n",
    "25          Coke\n",
    "\n",
    "42          Pepsi\n",
    "\n",
    "37          Mountain dew \n",
    "\n",
    "19          Coke\n",
    "\n",
    "31          Pepsi\n",
    "\n",
    "28          Coke\n",
    "    "
   ]
  },
  {
   "cell_type": "markdown",
   "id": "cf33d85a-5d29-4deb-a766-a84343e5063d",
   "metadata": {},
   "source": [
    "Ans.From the limited data provided, we cannot calculate any correlation coefficients or perform statistical analysis to quantify the relationship between age and brand preference. A more comprehensive study with a larger sample size and wider age range would be required to draw meaningful conclusions about the relationship between age and preference for a particular brand of soft drink."
   ]
  },
  {
   "cell_type": "markdown",
   "id": "de5b3226-df27-454b-a383-13cd80b21569",
   "metadata": {},
   "source": [
    "### Q6. A company is interested in examining the relationship between the number of sales calls made per day and the number of sales made per week. The company collected data on both variables from a sample of 30 sales representatives. Calculate the Pearson correlation coefficient between these two variables."
   ]
  },
  {
   "cell_type": "code",
   "execution_count": null,
   "id": "67c3f3fd-76bf-416e-a5b3-70c642974955",
   "metadata": {},
   "outputs": [],
   "source": []
  }
 ],
 "metadata": {
  "kernelspec": {
   "display_name": "Python 3 (ipykernel)",
   "language": "python",
   "name": "python3"
  },
  "language_info": {
   "codemirror_mode": {
    "name": "ipython",
    "version": 3
   },
   "file_extension": ".py",
   "mimetype": "text/x-python",
   "name": "python",
   "nbconvert_exporter": "python",
   "pygments_lexer": "ipython3",
   "version": "3.10.8"
  }
 },
 "nbformat": 4,
 "nbformat_minor": 5
}
