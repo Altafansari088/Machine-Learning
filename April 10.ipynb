{
 "cells": [
  {
   "cell_type": "markdown",
   "id": "06c60c75-493c-48fe-8dc4-e21b9e4a152b",
   "metadata": {},
   "source": [
    "Q1. A company conducted a survey of its employees and found that 70% of the employees use the company's health insurance plan, while 40% of the employees who use the plan are smokers. What is the probability that an employee is a smoker given that he/she uses the health insurance plan?\n",
    "\n",
    "To find the probability that an employee is a smoker given that he/she uses the health insurance plan, we can use Bayes' theorem. Let's denote the event \"employee uses the health insurance plan\" as A and the event \"employee is a smoker\" as B.\n",
    "\n",
    "According to the information given:\n",
    "\n",
    "P(A) = 0.70 (probability that an employee uses the health insurance plan)\n",
    "\n",
    "P(B|A) = 0.40 (probability that an employee is a smoker given that they use the health insurance plan)\n",
    "\n",
    "We want to find P(B|A), the probability that an employee is a smoker given that they use the health insurance plan.\n",
    "\n",
    "Using Bayes' theorem:\n",
    "\n",
    "P(B|A) = (P(A|B) * P(B)) / P(A)\n",
    "\n",
    "Since we don't have the value of P(B), the probability that an employee is a smoker, we cannot calculate the exact probability without additional information.\n",
    "\n",
    "Q2. What is the difference between Bernoulli Naive Bayes and Multinomial Naive Bayes?\n",
    "\n",
    "The main difference between Bernoulli Naive Bayes and Multinomial Naive Bayes lies in the type of data they are designed to handle.\n",
    "\n",
    "Bernoulli Naive Bayes: It is suitable for binary features, where each feature is either present or absent. It assumes that the presence or absence of each feature is independent of the others.\n",
    "\n",
    "Multinomial Naive Bayes: It is suitable for discrete features, such as word counts or categorical data. It assumes that the features follow a multinomial distribution, where each feature represents the frequency of a particular event.\n",
    "\n",
    "Q3. How does Bernoulli Naive Bayes handle missing values?\n",
    "\n",
    "Bernoulli Naive Bayes handles missing values by assuming that the missing values are equivalent to the absence of the feature. In other words, if a feature value is missing, it is considered as if the feature is not present. This assumption aligns with the underlying assumption of Bernoulli Naive Bayes, which assumes that each feature is either present or absent.\n",
    "\n",
    "Q4. Can Gaussian Naive Bayes be used for multi-class classification?\n",
    "\n",
    "Yes, Gaussian Naive Bayes can be used for multi-class classification. It is a variant of Naive Bayes that assumes that the features follow a Gaussian (normal) distribution. It can handle continuous numerical features. Gaussian Naive Bayes can be extended to handle multi-class classification problems by using the \"one-vs-rest\" or \"one-vs-one\" strategies.\n",
    "\n",
    "Q5. Assignment: Data preparation, Implementation, Results, Discussion, and Conclusion.\n",
    "\n",
    "To complete this assignment, you will need to download the \"Spambase Data Set\" from the UCI Machine Learning Repository. This dataset contains email messages, and the goal is to predict whether a message is spam or not based on several input features.\n",
    "\n",
    "You are required to implement Bernoulli Naive Bayes, Multinomial Naive Bayes, and Gaussian Naive Bayes classifiers using the scikit-learn library in Python. Use 10-fold cross-validation to evaluate the performance of each classifier on the dataset. You should use the default hyperparameters for each classifier.\n",
    "Report the following performance metrics for each classifier: Accuracy, Precision, Recall, and F1 score.\n",
    "\n",
    "In the discussion section, analyze and discuss the results you obtained. Compare the performance of each variant of Naive Bayes and explain why you think one performed better than the others. Also, mention any limitations of Naive Bayes that you observed.\n"
   ]
  }
 ],
 "metadata": {
  "kernelspec": {
   "display_name": "Python 3 (ipykernel)",
   "language": "python",
   "name": "python3"
  },
  "language_info": {
   "codemirror_mode": {
    "name": "ipython",
    "version": 3
   },
   "file_extension": ".py",
   "mimetype": "text/x-python",
   "name": "python",
   "nbconvert_exporter": "python",
   "pygments_lexer": "ipython3",
   "version": "3.10.8"
  }
 },
 "nbformat": 4,
 "nbformat_minor": 5
}
