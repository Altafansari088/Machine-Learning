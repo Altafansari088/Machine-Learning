{
 "cells": [
  {
   "cell_type": "markdown",
   "id": "960e9adb-e12a-4e8f-a491-d4f17c470cb3",
   "metadata": {},
   "source": [
    "Q1. In order to predict house prices based on several characteristics, such as location, square footage, number of bedrooms, etc., when developing an SVM regression model, which regression metric would be the best to employ?\n",
    "\n",
    " The best regression metric to employ in this situation would be the Mean Squared Error (MSE)\n",
    "\n",
    "Q2. If the goal is to predict the actual price of a house as accurately as possible, which evaluation metric would be more appropriate to use with an SVM regression model: MSE or R-squared?\n",
    "\n",
    "The more appropriate evaluation metric to use in this case would be the Mean Squared Error (MSE)\n",
    "\n",
    "Q3. When dealing with a dataset that contains a significant number of outliers, which regression metric would be the most appropriate to use with an SVM model?\n",
    "\n",
    " The most appropriate regression metric to use in this scenario would be the Mean Absolute Error (MAE).\n",
    "\n",
    "Q4. If both the Mean Squared Error (MSE) and Root Mean Squared Error (RMSE) values are very close when evaluating an SVM regression model with a polynomial kernel, which metric should be chosen to evaluate its performance?\n",
    "\n",
    " In this case, it is recommended to choose the Root Mean Squared Error (RMSE) as the evaluation metric\n",
    " \n",
    "Q5. When comparing the performance of different SVM regression models using different kernels (linear, polynomial, and RBF), which evaluation metric would be most appropriate to measure how well the model explains the variance in the target variable?\n",
    "\n",
    " The most appropriate evaluation metric to measure how well the model explains the variance in the target variable would be the coefficient of determination, also known as R-squared. "
   ]
  }
 ],
 "metadata": {
  "kernelspec": {
   "display_name": "Python 3 (ipykernel)",
   "language": "python",
   "name": "python3"
  },
  "language_info": {
   "codemirror_mode": {
    "name": "ipython",
    "version": 3
   },
   "file_extension": ".py",
   "mimetype": "text/x-python",
   "name": "python",
   "nbconvert_exporter": "python",
   "pygments_lexer": "ipython3",
   "version": "3.10.8"
  }
 },
 "nbformat": 4,
 "nbformat_minor": 5
}
