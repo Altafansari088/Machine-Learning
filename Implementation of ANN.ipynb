{
 "cells": [
  {
   "cell_type": "markdown",
   "id": "b5aa5394-46e4-45f1-8e96-53d78c8dac99",
   "metadata": {},
   "source": [
    "Q1. Install and load the latest versions of TensorFlow and Keras. Print their versions."
   ]
  },
  {
   "cell_type": "code",
   "execution_count": null,
   "id": "3a9f1e83-71d8-43b5-ba4c-d378338bd7f8",
   "metadata": {},
   "outputs": [],
   "source": [
    "!pip install tensorflow\n",
    "!pip install keras"
   ]
  },
  {
   "cell_type": "code",
   "execution_count": null,
   "id": "1ff97aa3-46c3-4d89-ae10-05ba18af830a",
   "metadata": {},
   "outputs": [],
   "source": [
    "import tensorflow as tf\n",
    "import keras\n",
    "\n",
    "print(\"TensorFlow version:\", tf.__version__)\n",
    "print(\"Keras version:\", keras.__version__)\n"
   ]
  },
  {
   "cell_type": "markdown",
   "id": "b80942e4-dcb5-4185-8bb5-53e24906e0f2",
   "metadata": {},
   "source": [
    "Q2. Load the Wine Quality dataset and explore its dimensions.\n",
    "\n",
    "To load the Wine Quality dataset, you can download it from the provided link (https://www.kaggle.com/datasets/nareshbhat/wine-quality-binary-classification) and read it into a pandas DataFrame using the read_csv() function. Then, you can explore its dimensions using the shape attribute."
   ]
  },
  {
   "cell_type": "code",
   "execution_count": null,
   "id": "8d490be9-c2e6-4cdd-8c3d-6a15230ca1a2",
   "metadata": {},
   "outputs": [],
   "source": [
    "import pandas as pd\n",
    "\n",
    "# Load the dataset\n",
    "wine_data = pd.read_csv(\"wine_quality.csv\")\n",
    "\n",
    "# Explore dimensions\n",
    "print(\"Dimensions of the dataset:\", wine_data.shape)\n"
   ]
  },
  {
   "cell_type": "markdown",
   "id": "bd6e1055-e6f2-4166-90fe-78712a83ecf7",
   "metadata": {},
   "source": [
    "Q3. Check for null values, identify categorical variables, and encode them."
   ]
  },
  {
   "cell_type": "code",
   "execution_count": null,
   "id": "85620f7c-1592-405c-8686-f6fdefd57855",
   "metadata": {},
   "outputs": [],
   "source": [
    "# Check for null values\n",
    "null_counts = wine_data.isnull().sum()\n",
    "print(\"Null value counts:\\n\", null_counts)\n",
    "# Identify categorical variables\n",
    "categorical_vars = wine_data.select_dtypes(include=\"object\").columns\n",
    "print(\"Categorical variables:\", categorical_vars)\n"
   ]
  },
  {
   "cell_type": "markdown",
   "id": "962da252-6d9e-4030-83b4-9b3f913bacdd",
   "metadata": {},
   "source": [
    "Q4. Separate the features and target variables from the dataset."
   ]
  },
  {
   "cell_type": "code",
   "execution_count": null,
   "id": "fb0bd5c3-0f38-45fd-a383-ffa1c9850f51",
   "metadata": {},
   "outputs": [],
   "source": [
    "# Separate features and target variables\n",
    "features = wine_data.drop(\"target_variable\", axis=1)  # Replace \"target_variable\" with the actual column name\n",
    "target = wine_data[\"target_variable\"]  # Replace \"target_variable\" with the actual column name\n"
   ]
  },
  {
   "cell_type": "markdown",
   "id": "0a7c2c01-5b4b-405d-8dbd-c74f212f2ab6",
   "metadata": {},
   "source": [
    "Q5. Perform a train-test split, dividing the data into training, validation, and test datasets"
   ]
  },
  {
   "cell_type": "code",
   "execution_count": null,
   "id": "0763cc32-fd87-44b9-b3a9-85781ae6aec0",
   "metadata": {},
   "outputs": [],
   "source": [
    "from sklearn.model_selection import train_test_split\n",
    "\n",
    "# Perform train-test split\n",
    "X_train, X_test, y_train, y_test = train_test_split(features, target, test_size=0.2, random_state=42)\n",
    "X_train, X_val, y_train, y_val = train_test_split(X_train, y_train, test_size=0.2, random_state=42)\n"
   ]
  },
  {
   "cell_type": "markdown",
   "id": "d002e50d-1493-4ebd-a595-3ade785bccb4",
   "metadata": {},
   "source": [
    "Q6. Scale the dataset using an appropriate scaling technique."
   ]
  },
  {
   "cell_type": "code",
   "execution_count": null,
   "id": "63475fab-c88e-4eee-9171-a1bc84ed7285",
   "metadata": {},
   "outputs": [],
   "source": [
    "from sklearn.preprocessing import StandardScaler\n",
    "\n",
    "# Perform standardization\n",
    "scaler = StandardScaler()\n",
    "X_train_scaled = scaler.fit_transform(X_train)\n",
    "X_val_scaled = scaler.transform(X_val)\n",
    "X_test_scaled = scaler.transform(X_test)\n"
   ]
  },
  {
   "cell_type": "markdown",
   "id": "81447b59-862f-4e1b-b32c-9de77f6a8650",
   "metadata": {},
   "source": [
    "Q7. Design and implement at least two hidden layers and an output layer for the binary categorical variable"
   ]
  },
  {
   "cell_type": "code",
   "execution_count": null,
   "id": "42a4c290-d7b7-423b-b35c-4b9a03d392a8",
   "metadata": {},
   "outputs": [],
   "source": [
    "from keras.models import Sequential\n",
    "from keras.layers import Dense\n",
    "\n",
    "# Create a Sequential model\n",
    "model = Sequential()\n",
    "\n",
    "# Add hidden layers\n",
    "model.add(Dense(64, activation=\"relu\", input_shape=(input_dim,)))  # Replace input_dim with the actual number of input features\n",
    "model.add(Dense(32, activation=\"relu\"))\n",
    "\n",
    "# Add output layer\n",
    "model.add(Dense(1, activation=\"sigmoid\"))  # For binary classification\n",
    "\n",
    "# Note: You can adjust the number of units and activation functions based on your requirements\n"
   ]
  },
  {
   "cell_type": "markdown",
   "id": "ab3126df-a160-43d1-a88d-7bf722a49a27",
   "metadata": {},
   "source": [
    "Q8. Create a Sequential model in Keras and add the previously designed layers to it."
   ]
  },
  {
   "cell_type": "code",
   "execution_count": null,
   "id": "65fb75b5-a6fb-4308-9785-12aa5e17d30c",
   "metadata": {},
   "outputs": [],
   "source": [
    "from keras.models import Sequential\n",
    "from keras.layers import Dense\n",
    "\n",
    "# Create a Sequential model\n",
    "model = Sequential()\n",
    "\n",
    "# Add hidden layers\n",
    "model.add(Dense(64, activation=\"relu\", input_shape=(input_dim,)))  # Replace input_dim with the actual number of input features\n",
    "model.add(Dense(32, activation=\"relu\"))\n",
    "\n",
    "# Add output layer\n",
    "model.add(Dense(1, activation=\"sigmoid\"))  # For binary classification\n"
   ]
  },
  {
   "cell_type": "markdown",
   "id": "6dc827dd-f916-4e87-a5a6-78911754e6a3",
   "metadata": {},
   "source": [
    "Q9. Print the summary of the model architecture"
   ]
  },
  {
   "cell_type": "code",
   "execution_count": null,
   "id": "cd61155b-692f-4a5d-9b40-387e59d60ddc",
   "metadata": {},
   "outputs": [],
   "source": [
    "model.summary()\n"
   ]
  },
  {
   "cell_type": "markdown",
   "id": "35049f58-2420-4880-94d1-79e3e0ecc624",
   "metadata": {},
   "source": [
    "Q10. Set the loss function('binary_crossentropy'), optimizer, and include the accuracy metric in the model."
   ]
  },
  {
   "cell_type": "code",
   "execution_count": null,
   "id": "6076c88d-b212-4f01-96e0-bf99ccb42742",
   "metadata": {},
   "outputs": [],
   "source": [
    "model.compile(loss=\"binary_crossentropy\", optimizer=\"adam\", metrics=[\"accuracy\"])\n"
   ]
  },
  {
   "cell_type": "markdown",
   "id": "825f5a70-eb5e-43f0-aeef-b7514fc2b86a",
   "metadata": {},
   "source": [
    "Q11. Compile the model with the specified loss function, optimizer, and metrics."
   ]
  },
  {
   "cell_type": "code",
   "execution_count": null,
   "id": "e97b165e-78f9-4b93-9264-6e8f480493c2",
   "metadata": {},
   "outputs": [],
   "source": [
    "model.compile(loss=\"binary_crossentropy\", optimizer=\"adam\", metrics=[\"accuracy\"])\n"
   ]
  },
  {
   "cell_type": "markdown",
   "id": "ab30136c-a966-4b24-8687-ee0e9c3170ba",
   "metadata": {},
   "source": [
    "Q12. Fit the model to the training data using an appropriate batch size and number of epochs."
   ]
  },
  {
   "cell_type": "code",
   "execution_count": null,
   "id": "5101ff70-8047-4c6b-b46c-fecb3a184590",
   "metadata": {},
   "outputs": [],
   "source": [
    "model.fit(X_train_scaled, y_train, batch_size=32, epochs=10)\n"
   ]
  },
  {
   "cell_type": "markdown",
   "id": "b4c0fbbb-85fb-4098-aec1-f299d6285270",
   "metadata": {},
   "source": [
    "Q13. Obtain the model's parameters (weights and biases)."
   ]
  },
  {
   "cell_type": "code",
   "execution_count": null,
   "id": "bcb27469-b92d-4bf7-911b-249433bf2f53",
   "metadata": {},
   "outputs": [],
   "source": [
    "# Obtain the model's parameters\n",
    "parameters = []\n",
    "for layer in model.layers:\n",
    "    parameters.append(layer.get_weights())\n",
    "\n",
    "# Print the parameters\n",
    "for i, layer_params in enumerate(parameters):\n",
    "    print(\"Layer\", i+1, \"parameters:\")\n",
    "    for j, param in enumerate(layer_params):\n",
    "        print(\"Parameter\", j+1, \"shape:\", param.shape)\n"
   ]
  },
  {
   "cell_type": "markdown",
   "id": "e78efff7-05cf-484c-a699-f8b54a8d18b6",
   "metadata": {},
   "source": [
    "Q14. Store the model's training history as a Pandas DataFrame."
   ]
  },
  {
   "cell_type": "code",
   "execution_count": null,
   "id": "0805ab4d-32e5-41ec-8b19-b9bb76c4de81",
   "metadata": {},
   "outputs": [],
   "source": [
    "import pandas as pd\n",
    "\n",
    "# Store the model's training history\n",
    "history_df = pd.DataFrame(model.history.history)\n"
   ]
  },
  {
   "cell_type": "markdown",
   "id": "699347aa-5390-4bd6-9bd1-756139f7d29b",
   "metadata": {},
   "source": [
    "Q15. Plot the training history (e.g., accuracy and loss) using suitable visualization techniques."
   ]
  },
  {
   "cell_type": "code",
   "execution_count": null,
   "id": "24ef08e7-6a34-4cc4-bb7e-17d5e04d17d9",
   "metadata": {},
   "outputs": [],
   "source": [
    "import matplotlib.pyplot as plt\n",
    "\n",
    "# Plot the training history\n",
    "plt.plot(history_df[\"accuracy\"], label=\"Accuracy\")\n",
    "plt.plot(history_df[\"loss\"], label=\"Loss\")\n",
    "plt.xlabel(\"Epoch\")\n",
    "plt.legend()\n",
    "plt.show()\n"
   ]
  },
  {
   "cell_type": "markdown",
   "id": "e4621657-7c2f-4bf0-b8ea-c9ee49268f24",
   "metadata": {},
   "source": [
    "Q16. Evaluate the model's performance using the test dataset and report relevant metrics"
   ]
  },
  {
   "cell_type": "code",
   "execution_count": null,
   "id": "20e0211f-80bb-4310-b41a-e4fd8e411d4f",
   "metadata": {},
   "outputs": [],
   "source": [
    "# Evaluate the model's performance\n",
    "test_loss, test_accuracy = model.evaluate(X_test_scaled, y_test)\n",
    "print(\"Test loss:\", test_loss)\n",
    "print(\"Test accuracy:\", test_accuracy)\n"
   ]
  }
 ],
 "metadata": {
  "kernelspec": {
   "display_name": "Python 3 (ipykernel)",
   "language": "python",
   "name": "python3"
  },
  "language_info": {
   "codemirror_mode": {
    "name": "ipython",
    "version": 3
   },
   "file_extension": ".py",
   "mimetype": "text/x-python",
   "name": "python",
   "nbconvert_exporter": "python",
   "pygments_lexer": "ipython3",
   "version": "3.10.8"
  }
 },
 "nbformat": 4,
 "nbformat_minor": 5
}
