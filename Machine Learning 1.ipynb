{
  "metadata": {
    "language_info": {
      "codemirror_mode": {
        "name": "python",
        "version": 3
      },
      "file_extension": ".py",
      "mimetype": "text/x-python",
      "name": "python",
      "nbconvert_exporter": "python",
      "pygments_lexer": "ipython3",
      "version": "3.8"
    },
    "kernelspec": {
      "name": "python",
      "display_name": "Python (Pyodide)",
      "language": "python"
    }
  },
  "nbformat_minor": 4,
  "nbformat": 4,
  "cells": [
    {
      "cell_type": "markdown",
      "source": "### Q1. Explain the following with an example\n\n### 1.Artificial Intelligence\n### 2.Machine Learning\n### 3.Deep Learning",
      "metadata": {}
    },
    {
      "cell_type": "markdown",
      "source": "Ans. AI involves developing algorithms and models that enable machines to process information, learn from experience, reason, and make decisions. It encompasses a broad range of techniques and approaches to create intelligent systems.",
      "metadata": {}
    },
    {
      "cell_type": "markdown",
      "source": "### Q2-What is supervised learning ? list some example of supervised learning.",
      "metadata": {}
    },
    {
      "cell_type": "markdown",
      "source": "Ans. Supervised learning is a type of machine learning where the algorithm learns from labeled training data. In supervised learning, the input data is paired with corresponding output labels, and the algorithm's goal is to learn a mapping between the input and output.\n\nEx. image Classification: Given a dataset of images with labeled categories (e.g., cats and dogs), the algorithm learns to classify new images into the correct category.",
      "metadata": {}
    },
    {
      "cell_type": "markdown",
      "source": "### Q3. What is unsupervised learnig? List some example of unsupervised learning.",
      "metadata": {}
    },
    {
      "cell_type": "markdown",
      "source": "Ans. Unsupervised learning is a type of machine learning where the algorithm learns patterns and relationships in the input data without any labeled output or guidance.\nEx. Clustering: Clustering algorithms group similar data points together based on their features or attributes. The algorithm automatically identifies clusters or subgroups within the data without any prior knowledge of the classes. Examples include K-means clustering, hierarchical clustering, and DBSCAN.",
      "metadata": {}
    },
    {
      "cell_type": "markdown",
      "source": "### Q4- What is the difference between AI, ML, DL, and DS?",
      "metadata": {}
    },
    {
      "cell_type": "markdown",
      "source": "Ans.AI is the broad concept of creating intelligent systems, ML is a subset of AI that focuses on algorithms that learn from data, DL is a subset of ML that specifically utilizes deep neural networks, and DS is the field that encompasses the entire process of extracting insights and knowledge from data using various techniques, including ML and DL.",
      "metadata": {}
    },
    {
      "cell_type": "markdown",
      "source": "### Q5- What are the main differences between supervised, unsupervised, and semi-supervised learning?",
      "metadata": {}
    },
    {
      "cell_type": "markdown",
      "source": "Ans.supervised learning relies on labeled data to learn the mapping between inputs and outputs, unsupervised learning focuses on discovering patterns in unlabeled data without any predefined output labels, and semi-supervised learning combines both labeled and unlabeled data to enhance learning performance and leverage the unlabeled information.",
      "metadata": {}
    },
    {
      "cell_type": "markdown",
      "source": "### Q5. What  is train, test and validation split? Explain the importance of each term",
      "metadata": {}
    },
    {
      "cell_type": "markdown",
      "source": "Ans. the training set is used to train the model, the test set is used to evaluate its performance on unseen data, and the validation set is used for model selection and hyperparameter tuning. This split ensures that the model's performance is assessed on independent datasets and helps in building an accurate and reliable sentiment analysis model.",
      "metadata": {}
    },
    {
      "cell_type": "markdown",
      "source": "### Q7- How can unsupervised learning be used in anomaly detection?",
      "metadata": {}
    },
    {
      "cell_type": "markdown",
      "source": "By leveraging unsupervised learning techniques, anomaly detection algorithms can identify unusual patterns, outliers, or deviations from normal behavior in data without the need for labeled anomalies. This approach is particularly useful when labeled anomaly data is scarce or not available.",
      "metadata": {}
    },
    {
      "cell_type": "markdown",
      "source": "### Q8- List down some commonly used supervised learning algeorithms and unsupervised lKarning  algorithms.",
      "metadata": {}
    },
    {
      "cell_type": "markdown",
      "source": "Supervised Learning Algorithms:\n\nLinear Regression\n\nLogistic Regression\n\nDecision Trees\n\nRandom Forests",
      "metadata": {}
    },
    {
      "cell_type": "markdown",
      "source": "Unsupervised Learning Algorithms:\n\nK-Means Clustering\n\nHierarchical Clustering\n\nGaussian Mixture Models (GMM)\n\nDBSCAN (Density-Based Spatial Clustering of Applications with Noise)\n\nPrincipal Component Analysis (PCA)",
      "metadata": {}
    }
  ]
}